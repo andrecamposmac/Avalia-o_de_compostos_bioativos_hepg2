{
 "cells": [
  {
   "cell_type": "markdown",
   "metadata": {},
   "source": [
    "***Biblioteca ChEMBL***"
   ]
  },
  {
   "cell_type": "markdown",
   "metadata": {},
   "source": [
    "ChEMBL é uma biblioteca \"open access\" que possibilita a aquisição de dados de moléculas bioativas e seus alvos conhecidos. Foi possível obter 25862 compostos que possuem atividade citotóxica para a linhagem celular HepG2 (Hepatocarcinoma Humano) utilizando esta biblioteca. Estes dados serão tratados e na última etapa utlizidos para desenvolver um modelo que prevê a atividade de uma nova molécula."
   ]
  },
  {
   "cell_type": "markdown",
   "metadata": {},
   "source": [
    "***Obtenção dos dados***"
   ]
  },
  {
   "cell_type": "code",
   "execution_count": 1,
   "metadata": {},
   "outputs": [],
   "source": [
    "import pandas as pd\n",
    "from chembl_webresource_client.new_client import new_client"
   ]
  },
  {
   "cell_type": "markdown",
   "metadata": {},
   "source": [
    "Para que possamos encontrar as moléculas que possuam bioatividade, precisamos pesquisar no banco de dados da CHEMBL o alvo \"target\". Neste trabalho o alvo escolhido foi a linhagem celular HepG2, células de cancer de figado. Desta forma, obeteremos todas as moléculas nesta base de dados que possuam alguma atividade citotóxica para esta linhagem celular. "
   ]
  },
  {
   "cell_type": "code",
   "execution_count": 2,
   "metadata": {},
   "outputs": [
    {
     "data": {
      "text/html": [
       "<div>\n",
       "<style scoped>\n",
       "    .dataframe tbody tr th:only-of-type {\n",
       "        vertical-align: middle;\n",
       "    }\n",
       "\n",
       "    .dataframe tbody tr th {\n",
       "        vertical-align: top;\n",
       "    }\n",
       "\n",
       "    .dataframe thead th {\n",
       "        text-align: right;\n",
       "    }\n",
       "</style>\n",
       "<table border=\"1\" class=\"dataframe\">\n",
       "  <thead>\n",
       "    <tr style=\"text-align: right;\">\n",
       "      <th></th>\n",
       "      <th>cross_references</th>\n",
       "      <th>organism</th>\n",
       "      <th>pref_name</th>\n",
       "      <th>score</th>\n",
       "      <th>species_group_flag</th>\n",
       "      <th>target_chembl_id</th>\n",
       "      <th>target_components</th>\n",
       "      <th>target_type</th>\n",
       "      <th>tax_id</th>\n",
       "    </tr>\n",
       "  </thead>\n",
       "  <tbody>\n",
       "    <tr>\n",
       "      <th>0</th>\n",
       "      <td>[]</td>\n",
       "      <td>Homo sapiens</td>\n",
       "      <td>HepG2</td>\n",
       "      <td>19.0</td>\n",
       "      <td>False</td>\n",
       "      <td>CHEMBL395</td>\n",
       "      <td>[]</td>\n",
       "      <td>CELL-LINE</td>\n",
       "      <td>9606</td>\n",
       "    </tr>\n",
       "    <tr>\n",
       "      <th>1</th>\n",
       "      <td>[]</td>\n",
       "      <td>Homo sapiens</td>\n",
       "      <td>HepG2 2.2.15</td>\n",
       "      <td>16.0</td>\n",
       "      <td>False</td>\n",
       "      <td>CHEMBL4296438</td>\n",
       "      <td>[]</td>\n",
       "      <td>CELL-LINE</td>\n",
       "      <td>9606</td>\n",
       "    </tr>\n",
       "    <tr>\n",
       "      <th>2</th>\n",
       "      <td>[]</td>\n",
       "      <td>Homo sapiens</td>\n",
       "      <td>HepG2-CD81</td>\n",
       "      <td>16.0</td>\n",
       "      <td>False</td>\n",
       "      <td>CHEMBL4543887</td>\n",
       "      <td>[]</td>\n",
       "      <td>CELL-LINE</td>\n",
       "      <td>9606</td>\n",
       "    </tr>\n",
       "    <tr>\n",
       "      <th>3</th>\n",
       "      <td>[{'xref_id': 'P11166', 'xref_name': None, 'xre...</td>\n",
       "      <td>Homo sapiens</td>\n",
       "      <td>Glucose transporter</td>\n",
       "      <td>14.0</td>\n",
       "      <td>False</td>\n",
       "      <td>CHEMBL2535</td>\n",
       "      <td>[{'accession': 'P11166', 'component_descriptio...</td>\n",
       "      <td>SINGLE PROTEIN</td>\n",
       "      <td>9606</td>\n",
       "    </tr>\n",
       "  </tbody>\n",
       "</table>\n",
       "</div>"
      ],
      "text/plain": [
       "                                    cross_references      organism  \\\n",
       "0                                                 []  Homo sapiens   \n",
       "1                                                 []  Homo sapiens   \n",
       "2                                                 []  Homo sapiens   \n",
       "3  [{'xref_id': 'P11166', 'xref_name': None, 'xre...  Homo sapiens   \n",
       "\n",
       "             pref_name  score  species_group_flag target_chembl_id  \\\n",
       "0                HepG2   19.0               False        CHEMBL395   \n",
       "1         HepG2 2.2.15   16.0               False    CHEMBL4296438   \n",
       "2           HepG2-CD81   16.0               False    CHEMBL4543887   \n",
       "3  Glucose transporter   14.0               False       CHEMBL2535   \n",
       "\n",
       "                                   target_components     target_type  tax_id  \n",
       "0                                                 []       CELL-LINE    9606  \n",
       "1                                                 []       CELL-LINE    9606  \n",
       "2                                                 []       CELL-LINE    9606  \n",
       "3  [{'accession': 'P11166', 'component_descriptio...  SINGLE PROTEIN    9606  "
      ]
     },
     "execution_count": 2,
     "metadata": {},
     "output_type": "execute_result"
    }
   ],
   "source": [
    "#Moléculas bioativas\n",
    "\n",
    "target = new_client.target\n",
    "target_query = target.search('HEPG2')\n",
    "targets = pd.DataFrame.from_dict(target_query)\n",
    "targets.head()"
   ]
  },
  {
   "cell_type": "markdown",
   "metadata": {},
   "source": [
    "A pesquisa retornou todos os alvos relacionados a HepG2, o primeiro foi escolhido por possuir maior \"score\" e possuir o \"target_line\" desejado. "
   ]
  },
  {
   "cell_type": "code",
   "execution_count": 4,
   "metadata": {},
   "outputs": [
    {
     "data": {
      "text/plain": [
       "'CHEMBL395'"
      ]
     },
     "execution_count": 4,
     "metadata": {},
     "output_type": "execute_result"
    }
   ],
   "source": [
    "selected_target = targets['target_chembl_id'].iloc[0]\n",
    "selected_target"
   ]
  },
  {
   "cell_type": "markdown",
   "metadata": {},
   "source": [
    "Após a descoberta do código CHEMBL relacionado ao alvo, inicia-se a pesquisa dos compostos bioativos filtrando por \"ic50\" (tipo de avaliação citotóxica, refere-se a concentração necessária para que um determinado composto diminua a reprodução celular em 50%)"
   ]
  },
  {
   "cell_type": "code",
   "execution_count": 5,
   "metadata": {},
   "outputs": [
    {
     "data": {
      "text/plain": [
       "[{'action_type': None, 'activity_comment': None, 'activity_id': 38273, 'activity_properties': [], 'assay_chembl_id': 'CHEMBL881719', 'assay_description': 'The compound was tested for inhibition of cholesterol biosynthesis in human hepatoma G2 cell line', 'assay_type': 'F', 'assay_variant_accession': None, 'assay_variant_mutation': None, 'bao_endpoint': 'BAO_0000190', 'bao_format': 'BAO_0000219', 'bao_label': 'cell-based format', 'canonical_smiles': 'COC(=O)CC(O)CP(=O)([O-])CCc1c(Cl)cc(Cl)cc1OCc1ccccc1.[Na+]', 'data_validity_comment': None, 'data_validity_description': None, 'document_chembl_id': 'CHEMBL1125979', 'document_journal': 'Bioorg Med Chem Lett', 'document_year': 1991, 'ligand_efficiency': None, 'molecule_chembl_id': 'CHEMBL39380', 'molecule_pref_name': None, 'parent_molecule_chembl_id': 'CHEMBL1204999', 'pchembl_value': '7.00', 'potential_duplicate': 0, 'qudt_units': 'http://www.openphacts.org/units/Nanomolar', 'record_id': 61373, 'relation': '=', 'src_id': 1, 'standard_flag': 1, 'standard_relation': '=', 'standard_text_value': None, 'standard_type': 'IC50', 'standard_units': 'nM', 'standard_upper_value': None, 'standard_value': '100.0', 'target_chembl_id': 'CHEMBL395', 'target_organism': 'Homo sapiens', 'target_pref_name': 'HepG2', 'target_tax_id': '9606', 'text_value': None, 'toid': None, 'type': 'IC50', 'units': 'uM', 'uo_units': 'UO_0000065', 'upper_value': None, 'value': '0.1'}, {'action_type': None, 'activity_comment': None, 'activity_id': 44218, 'activity_properties': [], 'assay_chembl_id': 'CHEMBL881719', 'assay_description': 'The compound was tested for inhibition of cholesterol biosynthesis in human hepatoma G2 cell line', 'assay_type': 'F', 'assay_variant_accession': None, 'assay_variant_mutation': None, 'bao_endpoint': 'BAO_0000190', 'bao_format': 'BAO_0000219', 'bao_label': 'cell-based format', 'canonical_smiles': 'CC(C)(C)C(=O)OCOC(=O)CC(O)CP(=O)(CCc1c(Cl)cc(Cl)cc1OCc1ccccc1)OCOC(=O)C(C)(C)C', 'data_validity_comment': None, 'data_validity_description': None, 'document_chembl_id': 'CHEMBL1125979', 'document_journal': 'Bioorg Med Chem Lett', 'document_year': 1991, 'ligand_efficiency': None, 'molecule_chembl_id': 'CHEMBL39003', 'molecule_pref_name': None, 'parent_molecule_chembl_id': 'CHEMBL39003', 'pchembl_value': '7.00', 'potential_duplicate': 0, 'qudt_units': 'http://www.openphacts.org/units/Nanomolar', 'record_id': 61372, 'relation': '=', 'src_id': 1, 'standard_flag': 1, 'standard_relation': '=', 'standard_text_value': None, 'standard_type': 'IC50', 'standard_units': 'nM', 'standard_upper_value': None, 'standard_value': '100.0', 'target_chembl_id': 'CHEMBL395', 'target_organism': 'Homo sapiens', 'target_pref_name': 'HepG2', 'target_tax_id': '9606', 'text_value': None, 'toid': None, 'type': 'IC50', 'units': 'uM', 'uo_units': 'UO_0000065', 'upper_value': None, 'value': '0.1'}, {'action_type': None, 'activity_comment': None, 'activity_id': 47846, 'activity_properties': [], 'assay_chembl_id': 'CHEMBL824182', 'assay_description': 'The compound was tested for inhibition of cholesterol biosynthesis in human hepatoma G2 cell line; showed relatively low potency', 'assay_type': 'F', 'assay_variant_accession': None, 'assay_variant_mutation': None, 'bao_endpoint': 'BAO_0000190', 'bao_format': 'BAO_0000219', 'bao_label': 'cell-based format', 'canonical_smiles': 'O=C(O)C[C@H](O)CP(=O)(O)CCc1c(Cl)cc(Cl)cc1OCc1ccccc1', 'data_validity_comment': None, 'data_validity_description': None, 'document_chembl_id': 'CHEMBL1125979', 'document_journal': 'Bioorg Med Chem Lett', 'document_year': 1991, 'ligand_efficiency': None, 'molecule_chembl_id': 'CHEMBL39102', 'molecule_pref_name': None, 'parent_molecule_chembl_id': 'CHEMBL39102', 'pchembl_value': None, 'potential_duplicate': 0, 'qudt_units': 'http://www.openphacts.org/units/Nanomolar', 'record_id': 61374, 'relation': '>', 'src_id': 1, 'standard_flag': 1, 'standard_relation': '>', 'standard_text_value': None, 'standard_type': 'IC50', 'standard_units': 'nM', 'standard_upper_value': None, 'standard_value': '1000.0', 'target_chembl_id': 'CHEMBL395', 'target_organism': 'Homo sapiens', 'target_pref_name': 'HepG2', 'target_tax_id': '9606', 'text_value': None, 'toid': None, 'type': 'IC50', 'units': 'uM', 'uo_units': 'UO_0000065', 'upper_value': None, 'value': '1.0'}, {'action_type': None, 'activity_comment': None, 'activity_id': 74264, 'activity_properties': [], 'assay_chembl_id': 'CHEMBL695846', 'assay_description': 'Compound was tested in vitro for growth inhibition of Hep G2, larynx epidermoid cell line', 'assay_type': 'F', 'assay_variant_accession': None, 'assay_variant_mutation': None, 'bao_endpoint': 'BAO_0000190', 'bao_format': 'BAO_0000219', 'bao_label': 'cell-based format', 'canonical_smiles': 'O=S(=O)(CC#C/C=C\\\\C#CCO)c1ccccc1', 'data_validity_comment': None, 'data_validity_description': None, 'document_chembl_id': 'CHEMBL1128998', 'document_journal': 'Bioorg Med Chem Lett', 'document_year': 1996, 'ligand_efficiency': None, 'molecule_chembl_id': 'CHEMBL162083', 'molecule_pref_name': None, 'parent_molecule_chembl_id': 'CHEMBL162083', 'pchembl_value': None, 'potential_duplicate': 0, 'qudt_units': 'http://www.openphacts.org/units/MicrogramPerMilliliter', 'record_id': 313499, 'relation': '>', 'src_id': 1, 'standard_flag': 1, 'standard_relation': '>', 'standard_text_value': None, 'standard_type': 'IC50', 'standard_units': 'ug.mL-1', 'standard_upper_value': None, 'standard_value': '10.0', 'target_chembl_id': 'CHEMBL395', 'target_organism': 'Homo sapiens', 'target_pref_name': 'HepG2', 'target_tax_id': '9606', 'text_value': None, 'toid': None, 'type': 'IC50', 'units': 'ug ml-1', 'uo_units': 'UO_0000274', 'upper_value': None, 'value': '10.0'}, '...(remaining elements truncated)...']"
      ]
     },
     "execution_count": 5,
     "metadata": {},
     "output_type": "execute_result"
    }
   ],
   "source": [
    "activity = new_client.activity\n",
    "res = activity.filter(target_chembl_id = selected_target).filter(standard_type = \"IC50\")\n",
    "res"
   ]
  },
  {
   "cell_type": "code",
   "execution_count": 6,
   "metadata": {},
   "outputs": [
    {
     "name": "stdout",
     "output_type": "stream",
     "text": [
      "<class 'pandas.core.frame.DataFrame'>\n",
      "RangeIndex: 25682 entries, 0 to 25681\n",
      "Data columns (total 46 columns):\n",
      " #   Column                     Non-Null Count  Dtype  \n",
      "---  ------                     --------------  -----  \n",
      " 0   action_type                0 non-null      object \n",
      " 1   activity_comment           587 non-null    object \n",
      " 2   activity_id                25682 non-null  int64  \n",
      " 3   activity_properties        25682 non-null  object \n",
      " 4   assay_chembl_id            25682 non-null  object \n",
      " 5   assay_description          25682 non-null  object \n",
      " 6   assay_type                 25682 non-null  object \n",
      " 7   assay_variant_accession    0 non-null      object \n",
      " 8   assay_variant_mutation     0 non-null      object \n",
      " 9   bao_endpoint               25682 non-null  object \n",
      " 10  bao_format                 25682 non-null  object \n",
      " 11  bao_label                  25682 non-null  object \n",
      " 12  canonical_smiles           25679 non-null  object \n",
      " 13  data_validity_comment      1667 non-null   object \n",
      " 14  data_validity_description  1667 non-null   object \n",
      " 15  document_chembl_id         25682 non-null  object \n",
      " 16  document_journal           24494 non-null  object \n",
      " 17  document_year              25040 non-null  float64\n",
      " 18  ligand_efficiency          0 non-null      object \n",
      " 19  molecule_chembl_id         25682 non-null  object \n",
      " 20  molecule_pref_name         2777 non-null   object \n",
      " 21  parent_molecule_chembl_id  25682 non-null  object \n",
      " 22  pchembl_value              16400 non-null  object \n",
      " 23  potential_duplicate        25682 non-null  int64  \n",
      " 24  qudt_units                 25103 non-null  object \n",
      " 25  record_id                  25682 non-null  int64  \n",
      " 26  relation                   25094 non-null  object \n",
      " 27  src_id                     25682 non-null  int64  \n",
      " 28  standard_flag              25682 non-null  int64  \n",
      " 29  standard_relation          25094 non-null  object \n",
      " 30  standard_text_value        0 non-null      object \n",
      " 31  standard_type              25682 non-null  object \n",
      " 32  standard_units             25108 non-null  object \n",
      " 33  standard_upper_value       0 non-null      object \n",
      " 34  standard_value             25095 non-null  object \n",
      " 35  target_chembl_id           25682 non-null  object \n",
      " 36  target_organism            25682 non-null  object \n",
      " 37  target_pref_name           25682 non-null  object \n",
      " 38  target_tax_id              25682 non-null  object \n",
      " 39  text_value                 0 non-null      object \n",
      " 40  toid                       0 non-null      object \n",
      " 41  type                       25682 non-null  object \n",
      " 42  units                      24372 non-null  object \n",
      " 43  uo_units                   25105 non-null  object \n",
      " 44  upper_value                183 non-null    object \n",
      " 45  value                      25095 non-null  object \n",
      "dtypes: float64(1), int64(5), object(40)\n",
      "memory usage: 9.0+ MB\n"
     ]
    }
   ],
   "source": [
    "df_1 = pd.DataFrame.from_dict(res)\n",
    "df_1.info()"
   ]
  },
  {
   "cell_type": "code",
   "execution_count": 7,
   "metadata": {},
   "outputs": [
    {
     "data": {
      "text/plain": [
       "array(['IC50'], dtype=object)"
      ]
     },
     "execution_count": 7,
     "metadata": {},
     "output_type": "execute_result"
    }
   ],
   "source": [
    "df_1['standard_type'].unique()"
   ]
  },
  {
   "cell_type": "code",
   "execution_count": 55,
   "metadata": {},
   "outputs": [],
   "source": [
    "df_1.to_csv('hepg2_raw_data.csv', index =False)"
   ]
  },
  {
   "cell_type": "code",
   "execution_count": 57,
   "metadata": {},
   "outputs": [
    {
     "data": {
      "text/html": [
       "<div>\n",
       "<style scoped>\n",
       "    .dataframe tbody tr th:only-of-type {\n",
       "        vertical-align: middle;\n",
       "    }\n",
       "\n",
       "    .dataframe tbody tr th {\n",
       "        vertical-align: top;\n",
       "    }\n",
       "\n",
       "    .dataframe thead th {\n",
       "        text-align: right;\n",
       "    }\n",
       "</style>\n",
       "<table border=\"1\" class=\"dataframe\">\n",
       "  <thead>\n",
       "    <tr style=\"text-align: right;\">\n",
       "      <th></th>\n",
       "      <th>action_type</th>\n",
       "      <th>activity_comment</th>\n",
       "      <th>activity_id</th>\n",
       "      <th>activity_properties</th>\n",
       "      <th>assay_chembl_id</th>\n",
       "      <th>assay_description</th>\n",
       "      <th>assay_type</th>\n",
       "      <th>assay_variant_accession</th>\n",
       "      <th>assay_variant_mutation</th>\n",
       "      <th>bao_endpoint</th>\n",
       "      <th>...</th>\n",
       "      <th>target_organism</th>\n",
       "      <th>target_pref_name</th>\n",
       "      <th>target_tax_id</th>\n",
       "      <th>text_value</th>\n",
       "      <th>toid</th>\n",
       "      <th>type</th>\n",
       "      <th>units</th>\n",
       "      <th>uo_units</th>\n",
       "      <th>upper_value</th>\n",
       "      <th>value</th>\n",
       "    </tr>\n",
       "  </thead>\n",
       "  <tbody>\n",
       "    <tr>\n",
       "      <th>0</th>\n",
       "      <td>None</td>\n",
       "      <td>None</td>\n",
       "      <td>38273</td>\n",
       "      <td>[]</td>\n",
       "      <td>CHEMBL881719</td>\n",
       "      <td>The compound was tested for inhibition of chol...</td>\n",
       "      <td>F</td>\n",
       "      <td>None</td>\n",
       "      <td>None</td>\n",
       "      <td>BAO_0000190</td>\n",
       "      <td>...</td>\n",
       "      <td>Homo sapiens</td>\n",
       "      <td>HepG2</td>\n",
       "      <td>9606</td>\n",
       "      <td>None</td>\n",
       "      <td>None</td>\n",
       "      <td>IC50</td>\n",
       "      <td>uM</td>\n",
       "      <td>UO_0000065</td>\n",
       "      <td>None</td>\n",
       "      <td>0.1</td>\n",
       "    </tr>\n",
       "    <tr>\n",
       "      <th>1</th>\n",
       "      <td>None</td>\n",
       "      <td>None</td>\n",
       "      <td>44218</td>\n",
       "      <td>[]</td>\n",
       "      <td>CHEMBL881719</td>\n",
       "      <td>The compound was tested for inhibition of chol...</td>\n",
       "      <td>F</td>\n",
       "      <td>None</td>\n",
       "      <td>None</td>\n",
       "      <td>BAO_0000190</td>\n",
       "      <td>...</td>\n",
       "      <td>Homo sapiens</td>\n",
       "      <td>HepG2</td>\n",
       "      <td>9606</td>\n",
       "      <td>None</td>\n",
       "      <td>None</td>\n",
       "      <td>IC50</td>\n",
       "      <td>uM</td>\n",
       "      <td>UO_0000065</td>\n",
       "      <td>None</td>\n",
       "      <td>0.1</td>\n",
       "    </tr>\n",
       "    <tr>\n",
       "      <th>2</th>\n",
       "      <td>None</td>\n",
       "      <td>None</td>\n",
       "      <td>47846</td>\n",
       "      <td>[]</td>\n",
       "      <td>CHEMBL824182</td>\n",
       "      <td>The compound was tested for inhibition of chol...</td>\n",
       "      <td>F</td>\n",
       "      <td>None</td>\n",
       "      <td>None</td>\n",
       "      <td>BAO_0000190</td>\n",
       "      <td>...</td>\n",
       "      <td>Homo sapiens</td>\n",
       "      <td>HepG2</td>\n",
       "      <td>9606</td>\n",
       "      <td>None</td>\n",
       "      <td>None</td>\n",
       "      <td>IC50</td>\n",
       "      <td>uM</td>\n",
       "      <td>UO_0000065</td>\n",
       "      <td>None</td>\n",
       "      <td>1.0</td>\n",
       "    </tr>\n",
       "    <tr>\n",
       "      <th>3</th>\n",
       "      <td>None</td>\n",
       "      <td>None</td>\n",
       "      <td>74264</td>\n",
       "      <td>[]</td>\n",
       "      <td>CHEMBL695846</td>\n",
       "      <td>Compound was tested in vitro for growth inhibi...</td>\n",
       "      <td>F</td>\n",
       "      <td>None</td>\n",
       "      <td>None</td>\n",
       "      <td>BAO_0000190</td>\n",
       "      <td>...</td>\n",
       "      <td>Homo sapiens</td>\n",
       "      <td>HepG2</td>\n",
       "      <td>9606</td>\n",
       "      <td>None</td>\n",
       "      <td>None</td>\n",
       "      <td>IC50</td>\n",
       "      <td>ug ml-1</td>\n",
       "      <td>UO_0000274</td>\n",
       "      <td>None</td>\n",
       "      <td>10.0</td>\n",
       "    </tr>\n",
       "    <tr>\n",
       "      <th>4</th>\n",
       "      <td>None</td>\n",
       "      <td>None</td>\n",
       "      <td>78722</td>\n",
       "      <td>[]</td>\n",
       "      <td>CHEMBL695847</td>\n",
       "      <td>Compound was tested in vitro for growth inhibi...</td>\n",
       "      <td>F</td>\n",
       "      <td>None</td>\n",
       "      <td>None</td>\n",
       "      <td>BAO_0000190</td>\n",
       "      <td>...</td>\n",
       "      <td>Homo sapiens</td>\n",
       "      <td>HepG2</td>\n",
       "      <td>9606</td>\n",
       "      <td>None</td>\n",
       "      <td>None</td>\n",
       "      <td>IC50</td>\n",
       "      <td>ug ml-1</td>\n",
       "      <td>UO_0000274</td>\n",
       "      <td>None</td>\n",
       "      <td>10.0</td>\n",
       "    </tr>\n",
       "  </tbody>\n",
       "</table>\n",
       "<p>5 rows × 46 columns</p>\n",
       "</div>"
      ],
      "text/plain": [
       "  action_type activity_comment  activity_id activity_properties  \\\n",
       "0        None             None        38273                  []   \n",
       "1        None             None        44218                  []   \n",
       "2        None             None        47846                  []   \n",
       "3        None             None        74264                  []   \n",
       "4        None             None        78722                  []   \n",
       "\n",
       "  assay_chembl_id                                  assay_description  \\\n",
       "0    CHEMBL881719  The compound was tested for inhibition of chol...   \n",
       "1    CHEMBL881719  The compound was tested for inhibition of chol...   \n",
       "2    CHEMBL824182  The compound was tested for inhibition of chol...   \n",
       "3    CHEMBL695846  Compound was tested in vitro for growth inhibi...   \n",
       "4    CHEMBL695847  Compound was tested in vitro for growth inhibi...   \n",
       "\n",
       "  assay_type assay_variant_accession assay_variant_mutation bao_endpoint  ...  \\\n",
       "0          F                    None                   None  BAO_0000190  ...   \n",
       "1          F                    None                   None  BAO_0000190  ...   \n",
       "2          F                    None                   None  BAO_0000190  ...   \n",
       "3          F                    None                   None  BAO_0000190  ...   \n",
       "4          F                    None                   None  BAO_0000190  ...   \n",
       "\n",
       "  target_organism target_pref_name target_tax_id text_value  toid  type  \\\n",
       "0    Homo sapiens            HepG2          9606       None  None  IC50   \n",
       "1    Homo sapiens            HepG2          9606       None  None  IC50   \n",
       "2    Homo sapiens            HepG2          9606       None  None  IC50   \n",
       "3    Homo sapiens            HepG2          9606       None  None  IC50   \n",
       "4    Homo sapiens            HepG2          9606       None  None  IC50   \n",
       "\n",
       "     units    uo_units upper_value value  \n",
       "0       uM  UO_0000065        None   0.1  \n",
       "1       uM  UO_0000065        None   0.1  \n",
       "2       uM  UO_0000065        None   1.0  \n",
       "3  ug ml-1  UO_0000274        None  10.0  \n",
       "4  ug ml-1  UO_0000274        None  10.0  \n",
       "\n",
       "[5 rows x 46 columns]"
      ]
     },
     "execution_count": 57,
     "metadata": {},
     "output_type": "execute_result"
    }
   ],
   "source": [
    "df_1.head()"
   ]
  },
  {
   "cell_type": "markdown",
   "metadata": {},
   "source": [
    "Obteve-se 25679 moléculas para o alvo HepG2, das quais 25095 possuem dados de citotoxicidade."
   ]
  },
  {
   "cell_type": "markdown",
   "metadata": {},
   "source": []
  }
 ],
 "metadata": {
  "kernelspec": {
   "display_name": "Python 3",
   "language": "python",
   "name": "python3"
  },
  "language_info": {
   "codemirror_mode": {
    "name": "ipython",
    "version": 3
   },
   "file_extension": ".py",
   "mimetype": "text/x-python",
   "name": "python",
   "nbconvert_exporter": "python",
   "pygments_lexer": "ipython3",
   "version": "3.11.5"
  }
 },
 "nbformat": 4,
 "nbformat_minor": 2
}
